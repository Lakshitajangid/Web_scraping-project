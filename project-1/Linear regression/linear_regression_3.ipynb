{
 "cells": [
  {
   "cell_type": "code",
   "execution_count": 1,
   "metadata": {
    "id": "O_UiGNqTVSes"
   },
   "outputs": [],
   "source": [
    "import pandas as pd\n",
    "import numpy as np"
   ]
  },
  {
   "cell_type": "code",
   "execution_count": 2,
   "metadata": {
    "id": "U24ukeiVVYuq"
   },
   "outputs": [],
   "source": [
    "df=pd.read_csv('Excel2 dataWeb_scraps.csv')"
   ]
  },
  {
   "cell_type": "code",
   "execution_count": 3,
   "metadata": {
    "colab": {
     "base_uri": "https://localhost:8080/",
     "height": 354
    },
    "id": "iX4VF1YCVaFs",
    "outputId": "cc7d0a28-4618-4119-e228-0c24a517a12c"
   },
   "outputs": [
    {
     "data": {
      "text/html": [
       "<div>\n",
       "<style scoped>\n",
       "    .dataframe tbody tr th:only-of-type {\n",
       "        vertical-align: middle;\n",
       "    }\n",
       "\n",
       "    .dataframe tbody tr th {\n",
       "        vertical-align: top;\n",
       "    }\n",
       "\n",
       "    .dataframe thead th {\n",
       "        text-align: right;\n",
       "    }\n",
       "</style>\n",
       "<table border=\"1\" class=\"dataframe\">\n",
       "  <thead>\n",
       "    <tr style=\"text-align: right;\">\n",
       "      <th></th>\n",
       "      <th>Unnamed: 0</th>\n",
       "      <th>Price</th>\n",
       "      <th>Description</th>\n",
       "      <th>Skills</th>\n",
       "      <th>Bids</th>\n",
       "      <th>Verified</th>\n",
       "      <th>Days</th>\n",
       "    </tr>\n",
       "  </thead>\n",
       "  <tbody>\n",
       "    <tr>\n",
       "      <th>0</th>\n",
       "      <td>0</td>\n",
       "      <td>$30 - $250</td>\n",
       "      <td>I am a Chinese business looking for a payment ...</td>\n",
       "      <td>Payment Gateway Integration\\nWordPress</td>\n",
       "      <td>0 bids</td>\n",
       "      <td>VERIFIED</td>\n",
       "      <td>6 days left</td>\n",
       "    </tr>\n",
       "    <tr>\n",
       "      <th>1</th>\n",
       "      <td>1</td>\n",
       "      <td>$750 - $1500</td>\n",
       "      <td>Youtube and Facebook video advertisement to fu...</td>\n",
       "      <td>Audio Production\\nVideo Production</td>\n",
       "      <td>0 bids</td>\n",
       "      <td>VERIFIED</td>\n",
       "      <td>6 days left</td>\n",
       "    </tr>\n",
       "    <tr>\n",
       "      <th>2</th>\n",
       "      <td>2</td>\n",
       "      <td>$18 / hr\\n                                (Avg...</td>\n",
       "      <td>Hi! I’m looking for clients. I’m offering serv...</td>\n",
       "      <td>Data Entry\\neCommerce\\nShopify\\nShopify Templa...</td>\n",
       "      <td>15 bids</td>\n",
       "      <td>VERIFIED</td>\n",
       "      <td>6 days left</td>\n",
       "    </tr>\n",
       "    <tr>\n",
       "      <th>3</th>\n",
       "      <td>3</td>\n",
       "      <td>$75\\n                                (Avg Bid)</td>\n",
       "      <td>I am looking for a skilled AR developer who ca...</td>\n",
       "      <td>Android\\nC# Programming\\niPhone\\nMobile App De...</td>\n",
       "      <td>4 bids</td>\n",
       "      <td>VERIFIED</td>\n",
       "      <td>6 days left</td>\n",
       "    </tr>\n",
       "    <tr>\n",
       "      <th>4</th>\n",
       "      <td>4</td>\n",
       "      <td>$85\\n                                (Avg Bid)</td>\n",
       "      <td>Data Scraping and Lead Generation\\n\\nI am look...</td>\n",
       "      <td>Data Mining\\nLead Generation\\nPython\\nWeb Scra...</td>\n",
       "      <td>1 bids</td>\n",
       "      <td>VERIFIED</td>\n",
       "      <td>6 days left</td>\n",
       "    </tr>\n",
       "  </tbody>\n",
       "</table>\n",
       "</div>"
      ],
      "text/plain": [
       "   Unnamed: 0                                              Price  \\\n",
       "0           0                                         $30 - $250   \n",
       "1           1                                       $750 - $1500   \n",
       "2           2  $18 / hr\\n                                (Avg...   \n",
       "3           3     $75\\n                                (Avg Bid)   \n",
       "4           4     $85\\n                                (Avg Bid)   \n",
       "\n",
       "                                         Description  \\\n",
       "0  I am a Chinese business looking for a payment ...   \n",
       "1  Youtube and Facebook video advertisement to fu...   \n",
       "2  Hi! I’m looking for clients. I’m offering serv...   \n",
       "3  I am looking for a skilled AR developer who ca...   \n",
       "4  Data Scraping and Lead Generation\\n\\nI am look...   \n",
       "\n",
       "                                              Skills     Bids  Verified  \\\n",
       "0             Payment Gateway Integration\\nWordPress   0 bids  VERIFIED   \n",
       "1                 Audio Production\\nVideo Production   0 bids  VERIFIED   \n",
       "2  Data Entry\\neCommerce\\nShopify\\nShopify Templa...  15 bids  VERIFIED   \n",
       "3  Android\\nC# Programming\\niPhone\\nMobile App De...   4 bids  VERIFIED   \n",
       "4  Data Mining\\nLead Generation\\nPython\\nWeb Scra...   1 bids  VERIFIED   \n",
       "\n",
       "          Days  \n",
       "0  6 days left  \n",
       "1  6 days left  \n",
       "2  6 days left  \n",
       "3  6 days left  \n",
       "4  6 days left  "
      ]
     },
     "execution_count": 3,
     "metadata": {},
     "output_type": "execute_result"
    }
   ],
   "source": [
    "df.head()\n",
    "\n"
   ]
  },
  {
   "cell_type": "code",
   "execution_count": 4,
   "metadata": {
    "colab": {
     "base_uri": "https://localhost:8080/",
     "height": 423
    },
    "id": "zAuTmp5GVcRy",
    "outputId": "72abcd8c-f945-40dc-c78d-d60bbacebc3b"
   },
   "outputs": [
    {
     "data": {
      "text/html": [
       "<div>\n",
       "<style scoped>\n",
       "    .dataframe tbody tr th:only-of-type {\n",
       "        vertical-align: middle;\n",
       "    }\n",
       "\n",
       "    .dataframe tbody tr th {\n",
       "        vertical-align: top;\n",
       "    }\n",
       "\n",
       "    .dataframe thead th {\n",
       "        text-align: right;\n",
       "    }\n",
       "</style>\n",
       "<table border=\"1\" class=\"dataframe\">\n",
       "  <thead>\n",
       "    <tr style=\"text-align: right;\">\n",
       "      <th></th>\n",
       "      <th>Price</th>\n",
       "      <th>Bids</th>\n",
       "      <th>Days</th>\n",
       "    </tr>\n",
       "  </thead>\n",
       "  <tbody>\n",
       "    <tr>\n",
       "      <th>0</th>\n",
       "      <td>$30 - $250</td>\n",
       "      <td>0 bids</td>\n",
       "      <td>6 days left</td>\n",
       "    </tr>\n",
       "    <tr>\n",
       "      <th>1</th>\n",
       "      <td>$750 - $1500</td>\n",
       "      <td>0 bids</td>\n",
       "      <td>6 days left</td>\n",
       "    </tr>\n",
       "    <tr>\n",
       "      <th>2</th>\n",
       "      <td>$18 / hr\\n                                (Avg...</td>\n",
       "      <td>15 bids</td>\n",
       "      <td>6 days left</td>\n",
       "    </tr>\n",
       "    <tr>\n",
       "      <th>3</th>\n",
       "      <td>$75\\n                                (Avg Bid)</td>\n",
       "      <td>4 bids</td>\n",
       "      <td>6 days left</td>\n",
       "    </tr>\n",
       "    <tr>\n",
       "      <th>4</th>\n",
       "      <td>$85\\n                                (Avg Bid)</td>\n",
       "      <td>1 bids</td>\n",
       "      <td>6 days left</td>\n",
       "    </tr>\n",
       "    <tr>\n",
       "      <th>...</th>\n",
       "      <td>...</td>\n",
       "      <td>...</td>\n",
       "      <td>...</td>\n",
       "    </tr>\n",
       "    <tr>\n",
       "      <th>195</th>\n",
       "      <td>$18\\n                                (Avg Bid)</td>\n",
       "      <td>2 bids</td>\n",
       "      <td>6 days left</td>\n",
       "    </tr>\n",
       "    <tr>\n",
       "      <th>196</th>\n",
       "      <td>$27\\n                                (Avg Bid)</td>\n",
       "      <td>23 bids</td>\n",
       "      <td>6 days left</td>\n",
       "    </tr>\n",
       "    <tr>\n",
       "      <th>197</th>\n",
       "      <td>$4 / hr\\n                                (Avg ...</td>\n",
       "      <td>10 bids</td>\n",
       "      <td>6 days left</td>\n",
       "    </tr>\n",
       "    <tr>\n",
       "      <th>198</th>\n",
       "      <td>$54\\n                                (Avg Bid)</td>\n",
       "      <td>4 bids</td>\n",
       "      <td>6 days left</td>\n",
       "    </tr>\n",
       "    <tr>\n",
       "      <th>199</th>\n",
       "      <td>$152 - $455</td>\n",
       "      <td>0 bids</td>\n",
       "      <td>6 days left</td>\n",
       "    </tr>\n",
       "  </tbody>\n",
       "</table>\n",
       "<p>200 rows × 3 columns</p>\n",
       "</div>"
      ],
      "text/plain": [
       "                                                 Price     Bids         Days\n",
       "0                                           $30 - $250   0 bids  6 days left\n",
       "1                                         $750 - $1500   0 bids  6 days left\n",
       "2    $18 / hr\\n                                (Avg...  15 bids  6 days left\n",
       "3       $75\\n                                (Avg Bid)   4 bids  6 days left\n",
       "4       $85\\n                                (Avg Bid)   1 bids  6 days left\n",
       "..                                                 ...      ...          ...\n",
       "195     $18\\n                                (Avg Bid)   2 bids  6 days left\n",
       "196     $27\\n                                (Avg Bid)  23 bids  6 days left\n",
       "197  $4 / hr\\n                                (Avg ...  10 bids  6 days left\n",
       "198     $54\\n                                (Avg Bid)   4 bids  6 days left\n",
       "199                                        $152 - $455   0 bids  6 days left\n",
       "\n",
       "[200 rows x 3 columns]"
      ]
     },
     "execution_count": 4,
     "metadata": {},
     "output_type": "execute_result"
    }
   ],
   "source": [
    "df = pd.read_csv('Excel2 dataWeb_scraps.csv', usecols=['Price', 'Bids', 'Days'])\n",
    "df"
   ]
  },
  {
   "cell_type": "code",
   "execution_count": 5,
   "metadata": {
    "colab": {
     "base_uri": "https://localhost:8080/"
    },
    "id": "qPwk2JUHVf0j",
    "outputId": "7bc6fe86-64c6-4879-bfbb-582268973f06"
   },
   "outputs": [
    {
     "name": "stdout",
     "output_type": "stream",
     "text": [
      "                                                 Price     Bids  Days\n",
      "0                                           $30 - $250   0 bids     6\n",
      "1                                         $750 - $1500   0 bids     6\n",
      "2    $18 / hr\\n                                (Avg...  15 bids     6\n",
      "3       $75\\n                                (Avg Bid)   4 bids     6\n",
      "4       $85\\n                                (Avg Bid)   1 bids     6\n",
      "..                                                 ...      ...   ...\n",
      "195     $18\\n                                (Avg Bid)   2 bids     6\n",
      "196     $27\\n                                (Avg Bid)  23 bids     6\n",
      "197  $4 / hr\\n                                (Avg ...  10 bids     6\n",
      "198     $54\\n                                (Avg Bid)   4 bids     6\n",
      "199                                        $152 - $455   0 bids     6\n",
      "\n",
      "[200 rows x 3 columns]\n"
     ]
    }
   ],
   "source": [
    "import re\n",
    "\n",
    "# Convert the \"Days\" column to string type\n",
    "df['Days'] = df['Days'].astype(str)\n",
    "\n",
    "# Remove unwanted characters from the days columns and extract numeric values\n",
    "df['Days'] = df['Days'].str.replace('\\D', '', regex=True)\n",
    "\n",
    "# Convert the \"Days\" column to numeric type\n",
    "df['Days'] = pd.to_numeric(df['Days'])\n",
    "\n",
    "# Print the data frame\n",
    "print(df)"
   ]
  },
  {
   "cell_type": "code",
   "execution_count": 6,
   "metadata": {
    "colab": {
     "base_uri": "https://localhost:8080/"
    },
    "id": "Y7lgViWkVidq",
    "outputId": "f24323b5-ac05-4f42-a2d9-56f04f101e14"
   },
   "outputs": [
    {
     "name": "stdout",
     "output_type": "stream",
     "text": [
      "                                                 Price  Bids  Days\n",
      "0                                           $30 - $250     0     6\n",
      "1                                         $750 - $1500     0     6\n",
      "2    $18 / hr\\n                                (Avg...    15     6\n",
      "3       $75\\n                                (Avg Bid)     4     6\n",
      "4       $85\\n                                (Avg Bid)     1     6\n",
      "..                                                 ...   ...   ...\n",
      "195     $18\\n                                (Avg Bid)     2     6\n",
      "196     $27\\n                                (Avg Bid)    23     6\n",
      "197  $4 / hr\\n                                (Avg ...    10     6\n",
      "198     $54\\n                                (Avg Bid)     4     6\n",
      "199                                        $152 - $455     0     6\n",
      "\n",
      "[200 rows x 3 columns]\n"
     ]
    }
   ],
   "source": [
    "#  DataFrame df with a \"bids\" column\n",
    "\n",
    "# Remove unwanted characters and extract numeric values\n",
    "df['Bids'] = df['Bids'].str.replace('\\D', '', regex=True)\n",
    "\n",
    "# Convert the \"bids\" column to numeric type\n",
    "df['Bids'] = pd.to_numeric(df['Bids'])\n",
    "\n",
    "# Print the DataFrame\n",
    "print(df)"
   ]
  },
  {
   "cell_type": "code",
   "execution_count": 7,
   "metadata": {
    "id": "7ahLJTaJVkTx"
   },
   "outputs": [],
   "source": [
    "df[['Price_Min', 'Price_Max']] = df['Price'].str.extract(r'\\$(\\d+)\\s*-\\s*\\$(\\d+)', expand=True)\n",
    "df[['Price_Min', 'Price_Max']] = df[['Price_Min', 'Price_Max']].apply(pd.to_numeric)"
   ]
  },
  {
   "cell_type": "code",
   "execution_count": 8,
   "metadata": {
    "id": "n2YQcjrzVnp7"
   },
   "outputs": [],
   "source": [
    "# Clean and extract numeric values from single prices\n",
    "df['Price_Single'] = df['Price'].str.extract(r'\\$(\\d+)', expand=False)\n",
    "df['Price_Single'] = df['Price_Single'].apply(pd.to_numeric)\n"
   ]
  },
  {
   "cell_type": "code",
   "execution_count": 9,
   "metadata": {
    "id": "JE3Dd8NsVpeK"
   },
   "outputs": [],
   "source": [
    "# Clean and extract numeric values from single prices\n",
    "df['Price_Single'] = df['Price'].str.extract(r'\\$(\\d+)', expand=False)\n",
    "df['Price_Single'] = df['Price_Single'].apply(pd.to_numeric)"
   ]
  },
  {
   "cell_type": "code",
   "execution_count": 10,
   "metadata": {
    "colab": {
     "base_uri": "https://localhost:8080/",
     "height": 423
    },
    "id": "Y-KNI2VeVtr-",
    "outputId": "1187a775-68d9-4e92-ac46-d5d0af8ddb73"
   },
   "outputs": [
    {
     "data": {
      "text/html": [
       "<div>\n",
       "<style scoped>\n",
       "    .dataframe tbody tr th:only-of-type {\n",
       "        vertical-align: middle;\n",
       "    }\n",
       "\n",
       "    .dataframe tbody tr th {\n",
       "        vertical-align: top;\n",
       "    }\n",
       "\n",
       "    .dataframe thead th {\n",
       "        text-align: right;\n",
       "    }\n",
       "</style>\n",
       "<table border=\"1\" class=\"dataframe\">\n",
       "  <thead>\n",
       "    <tr style=\"text-align: right;\">\n",
       "      <th></th>\n",
       "      <th>Price</th>\n",
       "      <th>Bids</th>\n",
       "      <th>Days</th>\n",
       "      <th>Price_Min</th>\n",
       "      <th>Price_Max</th>\n",
       "      <th>Price_Single</th>\n",
       "    </tr>\n",
       "  </thead>\n",
       "  <tbody>\n",
       "    <tr>\n",
       "      <th>0</th>\n",
       "      <td>$30 - $250</td>\n",
       "      <td>0</td>\n",
       "      <td>6</td>\n",
       "      <td>30.0</td>\n",
       "      <td>250.0</td>\n",
       "      <td>30</td>\n",
       "    </tr>\n",
       "    <tr>\n",
       "      <th>1</th>\n",
       "      <td>$750 - $1500</td>\n",
       "      <td>0</td>\n",
       "      <td>6</td>\n",
       "      <td>750.0</td>\n",
       "      <td>1500.0</td>\n",
       "      <td>750</td>\n",
       "    </tr>\n",
       "    <tr>\n",
       "      <th>2</th>\n",
       "      <td>$18 / hr\\n                                (Avg...</td>\n",
       "      <td>15</td>\n",
       "      <td>6</td>\n",
       "      <td>NaN</td>\n",
       "      <td>NaN</td>\n",
       "      <td>18</td>\n",
       "    </tr>\n",
       "    <tr>\n",
       "      <th>3</th>\n",
       "      <td>$75\\n                                (Avg Bid)</td>\n",
       "      <td>4</td>\n",
       "      <td>6</td>\n",
       "      <td>NaN</td>\n",
       "      <td>NaN</td>\n",
       "      <td>75</td>\n",
       "    </tr>\n",
       "    <tr>\n",
       "      <th>4</th>\n",
       "      <td>$85\\n                                (Avg Bid)</td>\n",
       "      <td>1</td>\n",
       "      <td>6</td>\n",
       "      <td>NaN</td>\n",
       "      <td>NaN</td>\n",
       "      <td>85</td>\n",
       "    </tr>\n",
       "    <tr>\n",
       "      <th>...</th>\n",
       "      <td>...</td>\n",
       "      <td>...</td>\n",
       "      <td>...</td>\n",
       "      <td>...</td>\n",
       "      <td>...</td>\n",
       "      <td>...</td>\n",
       "    </tr>\n",
       "    <tr>\n",
       "      <th>195</th>\n",
       "      <td>$18\\n                                (Avg Bid)</td>\n",
       "      <td>2</td>\n",
       "      <td>6</td>\n",
       "      <td>NaN</td>\n",
       "      <td>NaN</td>\n",
       "      <td>18</td>\n",
       "    </tr>\n",
       "    <tr>\n",
       "      <th>196</th>\n",
       "      <td>$27\\n                                (Avg Bid)</td>\n",
       "      <td>23</td>\n",
       "      <td>6</td>\n",
       "      <td>NaN</td>\n",
       "      <td>NaN</td>\n",
       "      <td>27</td>\n",
       "    </tr>\n",
       "    <tr>\n",
       "      <th>197</th>\n",
       "      <td>$4 / hr\\n                                (Avg ...</td>\n",
       "      <td>10</td>\n",
       "      <td>6</td>\n",
       "      <td>NaN</td>\n",
       "      <td>NaN</td>\n",
       "      <td>4</td>\n",
       "    </tr>\n",
       "    <tr>\n",
       "      <th>198</th>\n",
       "      <td>$54\\n                                (Avg Bid)</td>\n",
       "      <td>4</td>\n",
       "      <td>6</td>\n",
       "      <td>NaN</td>\n",
       "      <td>NaN</td>\n",
       "      <td>54</td>\n",
       "    </tr>\n",
       "    <tr>\n",
       "      <th>199</th>\n",
       "      <td>$152 - $455</td>\n",
       "      <td>0</td>\n",
       "      <td>6</td>\n",
       "      <td>152.0</td>\n",
       "      <td>455.0</td>\n",
       "      <td>152</td>\n",
       "    </tr>\n",
       "  </tbody>\n",
       "</table>\n",
       "<p>200 rows × 6 columns</p>\n",
       "</div>"
      ],
      "text/plain": [
       "                                                 Price  Bids  Days  Price_Min  \\\n",
       "0                                           $30 - $250     0     6       30.0   \n",
       "1                                         $750 - $1500     0     6      750.0   \n",
       "2    $18 / hr\\n                                (Avg...    15     6        NaN   \n",
       "3       $75\\n                                (Avg Bid)     4     6        NaN   \n",
       "4       $85\\n                                (Avg Bid)     1     6        NaN   \n",
       "..                                                 ...   ...   ...        ...   \n",
       "195     $18\\n                                (Avg Bid)     2     6        NaN   \n",
       "196     $27\\n                                (Avg Bid)    23     6        NaN   \n",
       "197  $4 / hr\\n                                (Avg ...    10     6        NaN   \n",
       "198     $54\\n                                (Avg Bid)     4     6        NaN   \n",
       "199                                        $152 - $455     0     6      152.0   \n",
       "\n",
       "     Price_Max  Price_Single  \n",
       "0        250.0            30  \n",
       "1       1500.0           750  \n",
       "2          NaN            18  \n",
       "3          NaN            75  \n",
       "4          NaN            85  \n",
       "..         ...           ...  \n",
       "195        NaN            18  \n",
       "196        NaN            27  \n",
       "197        NaN             4  \n",
       "198        NaN            54  \n",
       "199      455.0           152  \n",
       "\n",
       "[200 rows x 6 columns]"
      ]
     },
     "execution_count": 10,
     "metadata": {},
     "output_type": "execute_result"
    }
   ],
   "source": [
    "df"
   ]
  },
  {
   "cell_type": "code",
   "execution_count": 11,
   "metadata": {
    "id": "EQkRYOCZVwO4"
   },
   "outputs": [],
   "source": [
    "selected_columns = ['Price_Single', 'Bids', 'Days']\n",
    "df_selected = df[selected_columns].copy()"
   ]
  },
  {
   "cell_type": "code",
   "execution_count": 12,
   "metadata": {
    "colab": {
     "base_uri": "https://localhost:8080/",
     "height": 423
    },
    "id": "UUmPvmeXV1b5",
    "outputId": "3c238902-20db-4037-ca80-b3e60d5815f2"
   },
   "outputs": [
    {
     "data": {
      "text/html": [
       "<div>\n",
       "<style scoped>\n",
       "    .dataframe tbody tr th:only-of-type {\n",
       "        vertical-align: middle;\n",
       "    }\n",
       "\n",
       "    .dataframe tbody tr th {\n",
       "        vertical-align: top;\n",
       "    }\n",
       "\n",
       "    .dataframe thead th {\n",
       "        text-align: right;\n",
       "    }\n",
       "</style>\n",
       "<table border=\"1\" class=\"dataframe\">\n",
       "  <thead>\n",
       "    <tr style=\"text-align: right;\">\n",
       "      <th></th>\n",
       "      <th>Price_Single</th>\n",
       "      <th>Bids</th>\n",
       "      <th>Days</th>\n",
       "    </tr>\n",
       "  </thead>\n",
       "  <tbody>\n",
       "    <tr>\n",
       "      <th>0</th>\n",
       "      <td>30</td>\n",
       "      <td>0</td>\n",
       "      <td>6</td>\n",
       "    </tr>\n",
       "    <tr>\n",
       "      <th>1</th>\n",
       "      <td>750</td>\n",
       "      <td>0</td>\n",
       "      <td>6</td>\n",
       "    </tr>\n",
       "    <tr>\n",
       "      <th>2</th>\n",
       "      <td>18</td>\n",
       "      <td>15</td>\n",
       "      <td>6</td>\n",
       "    </tr>\n",
       "    <tr>\n",
       "      <th>3</th>\n",
       "      <td>75</td>\n",
       "      <td>4</td>\n",
       "      <td>6</td>\n",
       "    </tr>\n",
       "    <tr>\n",
       "      <th>4</th>\n",
       "      <td>85</td>\n",
       "      <td>1</td>\n",
       "      <td>6</td>\n",
       "    </tr>\n",
       "    <tr>\n",
       "      <th>...</th>\n",
       "      <td>...</td>\n",
       "      <td>...</td>\n",
       "      <td>...</td>\n",
       "    </tr>\n",
       "    <tr>\n",
       "      <th>195</th>\n",
       "      <td>18</td>\n",
       "      <td>2</td>\n",
       "      <td>6</td>\n",
       "    </tr>\n",
       "    <tr>\n",
       "      <th>196</th>\n",
       "      <td>27</td>\n",
       "      <td>23</td>\n",
       "      <td>6</td>\n",
       "    </tr>\n",
       "    <tr>\n",
       "      <th>197</th>\n",
       "      <td>4</td>\n",
       "      <td>10</td>\n",
       "      <td>6</td>\n",
       "    </tr>\n",
       "    <tr>\n",
       "      <th>198</th>\n",
       "      <td>54</td>\n",
       "      <td>4</td>\n",
       "      <td>6</td>\n",
       "    </tr>\n",
       "    <tr>\n",
       "      <th>199</th>\n",
       "      <td>152</td>\n",
       "      <td>0</td>\n",
       "      <td>6</td>\n",
       "    </tr>\n",
       "  </tbody>\n",
       "</table>\n",
       "<p>200 rows × 3 columns</p>\n",
       "</div>"
      ],
      "text/plain": [
       "     Price_Single  Bids  Days\n",
       "0              30     0     6\n",
       "1             750     0     6\n",
       "2              18    15     6\n",
       "3              75     4     6\n",
       "4              85     1     6\n",
       "..            ...   ...   ...\n",
       "195            18     2     6\n",
       "196            27    23     6\n",
       "197             4    10     6\n",
       "198            54     4     6\n",
       "199           152     0     6\n",
       "\n",
       "[200 rows x 3 columns]"
      ]
     },
     "execution_count": 12,
     "metadata": {},
     "output_type": "execute_result"
    }
   ],
   "source": [
    "df_selected"
   ]
  },
  {
   "cell_type": "code",
   "execution_count": null,
   "metadata": {
    "id": "m7XBIq19V7a8"
   },
   "outputs": [],
   "source": []
  },
  {
   "cell_type": "markdown",
   "metadata": {
    "id": "mPnnvAgVWqKK"
   },
   "source": [
    "#linear regression"
   ]
  },
  {
   "cell_type": "code",
   "execution_count": 19,
   "metadata": {
    "id": "pzn6Bzz8WrtD"
   },
   "outputs": [],
   "source": [
    "\n",
    "X = df_selected[['Bids', 'Days']]  # Independent variables\n",
    "y = df_selected['Price_Single']  # Dependent variable\n"
   ]
  },
  {
   "cell_type": "code",
   "execution_count": 14,
   "metadata": {
    "id": "9XXwy_k5Ws57"
   },
   "outputs": [],
   "source": [
    "from sklearn.model_selection import train_test_split\n",
    "\n",
    "# Split the dataset into training and testing sets\n",
    "X_train, X_test, y_train, y_test = train_test_split(X, y, test_size=0.2, random_state=42)\n"
   ]
  },
  {
   "cell_type": "code",
   "execution_count": 15,
   "metadata": {
    "colab": {
     "base_uri": "https://localhost:8080/",
     "height": 74
    },
    "id": "TSlk7HOYWvyt",
    "outputId": "39cf6160-d817-401e-8e32-b6ab708a010c"
   },
   "outputs": [
    {
     "data": {
      "text/plain": [
       "LinearRegression()"
      ]
     },
     "execution_count": 15,
     "metadata": {},
     "output_type": "execute_result"
    }
   ],
   "source": [
    "from sklearn.linear_model import LinearRegression\n",
    "model = LinearRegression()\n",
    "model.fit(X_train, y_train)"
   ]
  },
  {
   "cell_type": "code",
   "execution_count": 16,
   "metadata": {
    "id": "r_A1zRD0W06o"
   },
   "outputs": [],
   "source": [
    "y_pred = model.predict(X_test)"
   ]
  },
  {
   "cell_type": "code",
   "execution_count": 17,
   "metadata": {
    "colab": {
     "base_uri": "https://localhost:8080/"
    },
    "id": "9qYCiRVzW291",
    "outputId": "a9c9040b-9670-4ca5-d15b-af07e1ed1094"
   },
   "outputs": [
    {
     "name": "stdout",
     "output_type": "stream",
     "text": [
      "Mean Squared Error: 299244.1350154815\n",
      "R-squared: -0.047242079588835306\n"
     ]
    }
   ],
   "source": [
    "from sklearn.metrics import mean_squared_error, r2_score\n",
    "\n",
    "mse = mean_squared_error(y_test, y_pred)\n",
    "print(\"Mean Squared Error:\", mse)\n",
    "\n",
    "# Evaluate the model using R-squared\n",
    "r2 = r2_score(y_test, y_pred)\n",
    "print(\"R-squared:\", r2)\n"
   ]
  },
  {
   "cell_type": "code",
   "execution_count": 23,
   "metadata": {
    "colab": {
     "base_uri": "https://localhost:8080/",
     "height": 472
    },
    "id": "z9uvCbl-W6iq",
    "outputId": "2afbe26a-bd90-4928-84ed-511470615626"
   },
   "outputs": [
    {
     "data": {
      "image/png": "[encoded data removed]",
      "text/plain": [
       "<Figure size 640x480 with 1 Axes>"
      ]
     },
     "metadata": {},
     "output_type": "display_data"
    }
   ],
   "source": [
    "import matplotlib.pyplot as plt\n",
    "plt.scatter(y_test, y_test, color='blue', label='Actual')\n",
    "plt.scatter(y_test, y_pred, color='red', label='Predicted')\n",
    "\n",
    "plt.xlabel('Actual Price_Single')\n",
    "plt.ylabel('Predicted Price_Single')\n",
    "plt.title('Actual vs. Predicted Price_Single')\n",
    "\n",
    "\n",
    "plt.plot(y_test, y_test, color='gray', linestyle='--')\n",
    "\n",
    "\n",
    "plt.legend()\n",
    "\n",
    "\n",
    "plt.show()\n"
   ]
  },
  {
   "cell_type": "code",
   "execution_count": null,
   "metadata": {},
   "outputs": [],
   "source": []
  }
 ],
 "metadata": {
  "colab": {
   "provenance": []
  },
  "kernelspec": {
   "display_name": "Python 3 (ipykernel)",
   "language": "python",
   "name": "python3"
  },
  "language_info": {
   "codemirror_mode": {
    "name": "ipython",
    "version": 3
   },
   "file_extension": ".py",
   "mimetype": "text/x-python",
   "name": "python",
   "nbconvert_exporter": "python",
   "pygments_lexer": "ipython3",
   "version": "3.9.13"
  }
 },
 "nbformat": 4,
 "nbformat_minor": 1
}
